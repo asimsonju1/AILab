{
  "nbformat": 4,
  "nbformat_minor": 0,
  "metadata": {
    "colab": {
      "provenance": [],
      "authorship_tag": "ABX9TyN/YMFphoTgj4aSZ/AFp9l4",
      "include_colab_link": true
    },
    "kernelspec": {
      "name": "python3",
      "display_name": "Python 3"
    },
    "language_info": {
      "name": "python"
    }
  },
  "cells": [
    {
      "cell_type": "markdown",
      "metadata": {
        "id": "view-in-github",
        "colab_type": "text"
      },
      "source": [
        "<a href=\"https://colab.research.google.com/github/Dipson-bot/AI_NEC/blob/main/Tower_of_Hanoi.ipynb\" target=\"_parent\"><img src=\"https://colab.research.google.com/assets/colab-badge.svg\" alt=\"Open In Colab\"/></a>"
      ]
    },
    {
      "cell_type": "code",
      "execution_count": 2,
      "metadata": {
        "colab": {
          "base_uri": "https://localhost:8080/"
        },
        "id": "rXgP4a17GEy7",
        "outputId": "cef7b759-aa56-4f8f-8edd-04e793db263a"
      },
      "outputs": [
        {
          "output_type": "stream",
          "name": "stdout",
          "text": [
            "Enter the number of disks for the Tower of Hanoi: 3\n",
            "Move disk 1 from A to C\n",
            "Move disk 2 from A to B\n",
            "Move disk 1 from C to B\n",
            "Move disk 3 from A to C\n",
            "Move disk 1 from B to A\n",
            "Move disk 2 from B to C\n",
            "Move disk 1 from A to C\n"
          ]
        }
      ],
      "source": [
        "class TowerOfHanoi:\n",
        "    def __init__(self, n):\n",
        "        self.n = n  # Number of disks\n",
        "\n",
        "    def solve_hanoi(self, n, source, target, auxiliary):\n",
        "        if n == 1:\n",
        "            print(f\"Move disk 1 from {source} to {target}\")\n",
        "            return\n",
        "\n",
        "        # Move n-1 disks from source to auxiliary, using target as auxiliary\n",
        "        self.solve_hanoi(n - 1, source, auxiliary, target)\n",
        "\n",
        "        # Move the nth disk from source to target\n",
        "        print(f\"Move disk {n} from {source} to {target}\")\n",
        "\n",
        "        # Move the n-1 disks from auxiliary to target, using source as auxiliary\n",
        "        self.solve_hanoi(n - 1, auxiliary, target, source)\n",
        "\n",
        "    def solve(self):\n",
        "        self.solve_hanoi(self.n, 'A', 'C', 'B')\n",
        "\n",
        "# Example usage\n",
        "n = int(input(\"Enter the number of disks for the Tower of Hanoi: \"))\n",
        "th = TowerOfHanoi(n)\n",
        "th.solve()\n"
      ]
    }
  ]
}
