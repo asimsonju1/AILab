{
  "nbformat": 4,
  "nbformat_minor": 0,
  "metadata": {
    "colab": {
      "provenance": [],
      "include_colab_link": true
    },
    "kernelspec": {
      "name": "python3",
      "display_name": "Python 3"
    },
    "language_info": {
      "name": "python"
    }
  },
  "cells": [
    {
      "cell_type": "markdown",
      "metadata": {
        "id": "view-in-github",
        "colab_type": "text"
      },
      "source": [
        "<a href=\"https://colab.research.google.com/github/Dipson-bot/AI_NEC/blob/main/Lab%20Sheet%20III/5)%20Heuristic_value_for_block_world_problem.ipynb\" target=\"_parent\"><img src=\"https://colab.research.google.com/assets/colab-badge.svg\" alt=\"Open In Colab\"/></a>"
      ]
    },
    {
      "cell_type": "code",
      "execution_count": 1,
      "metadata": {
        "colab": {
          "base_uri": "https://localhost:8080/"
        },
        "id": "TVRBhVRETcOQ",
        "outputId": "0a48b23d-13de-4744-dafb-bfa07439d8ea"
      },
      "outputs": [
        {
          "output_type": "stream",
          "name": "stdout",
          "text": [
            "Heuristic Value: -4\n"
          ]
        }
      ],
      "source": [
        "def calculate_heuristic(start_state, goal_state):\n",
        "\n",
        "  \"\"\"\n",
        "  Calculates the heuristic value for the Blocks World problem.\n",
        "\n",
        "  Args:\n",
        "  start_state (list): A list of blocks from top to bottom in the start state.\n",
        "  goal_state (list): A list of blocks from top to bottom in the goal state.\n",
        "\n",
        "  Returns:\n",
        "  int: The heuristic value of the state.\n",
        "  \"\"\"\n",
        "  heuristic = 0\n",
        "  n = len(start_state)\n",
        "  for i in range(n):\n",
        "    if start_state[i:] == goal_state[i:]:\n",
        "      heuristic += 1\n",
        "      break # Remaining structure is correct\n",
        "    else:\n",
        "        heuristic -= 1\n",
        "  return heuristic\n",
        "\n",
        "# Example: Define the start and goal states\n",
        "start_state = [\"A\", \"D\", \"C\", \"B\"] # Top to bottom\n",
        "goal_state = [\"A\", \"B\", \"C\", \"D\"] # Top to bottom\n",
        "\n",
        "# Calculate and print the heuristic value\n",
        "heuristic_value = calculate_heuristic(start_state, goal_state)\n",
        "print(f\"Heuristic Value: {heuristic_value}\")"
      ]
    }
  ]
}